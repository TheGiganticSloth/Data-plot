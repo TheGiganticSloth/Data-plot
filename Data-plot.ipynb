{
 "cells": [
  {
   "cell_type": "code",
   "execution_count": null,
   "metadata": {},
   "outputs": [],
   "source": [
    "import os\n",
    "import pandas as pd\n",
    "import matplotlib.pyplot as plt\n",
    "\n",
    "def get_data(path: str):\n",
    "    \"\"\"Plot on specific .txt file and stores it in the current working directory.\n",
    "    \n",
    "    Args:\n",
    "        path (str): The path of the .txt file containing the data to be plotted.\n",
    "    \"\"\"\n",
    "    \n",
    "    # Read the data from a text file\n",
    "    df = pd.read_csv(path)\n",
    "    \n",
    "    fig, ax = plt.subplots()\n",
    "\n",
    "    hb = ax.hexbin(df['X'], df['Y'], C=df['Voltage'], gridsize=250, cmap='viridis')\n",
    "    cb = fig.colorbar(hb, ax=ax)\n",
    "    cb.set_label('Voltage')\n",
    "    \n",
    "    ax.set_title('2D plot with Voltage color scale')\n",
    "    ax.set_xlabel('X')\n",
    "    ax.set_ylabel('Y')\n",
    "    plt.savefig(f\"Plot.png\")\n",
    "    plt.show()\n",
    "\n",
    "def get_data_folder(input_folder_path: str, output_folder_path: str):\n",
    "    \"\"\"Plot all the .txt files in a given input folder and stores it in a specified output folder. Creates it if non-existant.\n",
    "\n",
    "    Note: Uses matplotlib.pyplot.hexbin() to process the data.\n",
    "\n",
    "    Args:\n",
    "        input_folder_path (str): The path of the folder containing the data\n",
    "        output_folder_path (str): The path of the folder where the figures will be stored.\n",
    "    \"\"\"\n",
    "\n",
    "    # Get a list of all .txt files in the directory\n",
    "    files = [f for f in os.listdir(input_folder_path) if f.endswith('.txt')]\n",
    "\n",
    "    for file in files:\n",
    "        # Construct the full file path\n",
    "        path = os.path.join(input_folder_path, file)\n",
    "\n",
    "        # Read the data from the text file\n",
    "        df = pd.read_csv(path, sep='\\t', names=['X', 'Y', 'Voltage', 'Ignore'])\n",
    "        \n",
    "        fig, ax = plt.subplots()\n",
    "        \n",
    "        hb = ax.hexbin(df['X'], df['Y'], C=df['Voltage'], gridsize=250, cmap='viridis')\n",
    "        cb = fig.colorbar(hb, ax=ax)\n",
    "        cb.set_label('Voltage')\n",
    "        \n",
    "        ax.set_title('2D plot with Voltage color scale')\n",
    "        ax.set_xlabel('X')\n",
    "        ax.set_ylabel('Y')\n",
    "        # Check if the output directory exists, if not, create it\n",
    "        if not os.path.exists(output_folder_path):\n",
    "            os.makedirs(output_folder_path)\n",
    "\n",
    "        # Save the figure in the output directory using the original file name (without extension)\n",
    "        plt.savefig(os.path.join(output_folder_path, f\"{file.split('.')[0]}.png\"))\n",
    "        plt.show()\n"
   ]
  },
  {
   "cell_type": "code",
   "execution_count": null,
   "metadata": {},
   "outputs": [],
   "source": [
    "# Call the function with the path to the folder as a parameter\n",
    "get_data_folder('./Measurements/Device 3/23-07-17', \"./Measurements figures\")"
   ]
  }
 ],
 "metadata": {
  "kernelspec": {
   "display_name": "my-env",
   "language": "python",
   "name": "python3"
  },
  "language_info": {
   "codemirror_mode": {
    "name": "ipython",
    "version": 3
   },
   "file_extension": ".py",
   "mimetype": "text/x-python",
   "name": "python",
   "nbconvert_exporter": "python",
   "pygments_lexer": "ipython3",
   "version": "3.11.0"
  },
  "orig_nbformat": 4
 },
 "nbformat": 4,
 "nbformat_minor": 2
}
